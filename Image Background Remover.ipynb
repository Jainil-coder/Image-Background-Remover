{
 "cells": [
  {
   "cell_type": "code",
   "execution_count": 1,
   "id": "78c266f9",
   "metadata": {},
   "outputs": [
    {
     "data": {
      "text/plain": [
       "array([[[255, 255, 255],\n",
       "        [255, 255, 255],\n",
       "        [255, 255, 255],\n",
       "        ...,\n",
       "        [255, 255, 255],\n",
       "        [255, 255, 255],\n",
       "        [255, 255, 255]],\n",
       "\n",
       "       [[255, 255, 255],\n",
       "        [255, 255, 255],\n",
       "        [255, 255, 255],\n",
       "        ...,\n",
       "        [255, 255, 255],\n",
       "        [255, 255, 255],\n",
       "        [255, 255, 255]],\n",
       "\n",
       "       [[255, 255, 255],\n",
       "        [255, 255, 255],\n",
       "        [255, 255, 255],\n",
       "        ...,\n",
       "        [255, 255, 255],\n",
       "        [255, 255, 255],\n",
       "        [255, 255, 255]],\n",
       "\n",
       "       ...,\n",
       "\n",
       "       [[255, 255, 255],\n",
       "        [255, 255, 255],\n",
       "        [255, 255, 255],\n",
       "        ...,\n",
       "        [255, 255, 255],\n",
       "        [255, 255, 255],\n",
       "        [255, 255, 255]],\n",
       "\n",
       "       [[255, 255, 255],\n",
       "        [255, 255, 255],\n",
       "        [255, 255, 255],\n",
       "        ...,\n",
       "        [255, 255, 255],\n",
       "        [255, 255, 255],\n",
       "        [255, 255, 255]],\n",
       "\n",
       "       [[255, 255, 255],\n",
       "        [255, 255, 255],\n",
       "        [255, 255, 255],\n",
       "        ...,\n",
       "        [255, 255, 255],\n",
       "        [255, 255, 255],\n",
       "        [255, 255, 255]]], dtype=uint8)"
      ]
     },
     "execution_count": 1,
     "metadata": {},
     "output_type": "execute_result"
    }
   ],
   "source": [
    "import pixellib\n",
    "\n",
    "# Here we will import pixellib library and from pixellib, we will import alter_bg class.\n",
    "\n",
    "from pixellib.tune_bg import alter_bg\n",
    "\n",
    "# Pixellib is a library majorly used for performing segmentation of objects in images and video.\n",
    "# With Pixellib it is possible to change background of any image or video with some lines of code.\n",
    "\n",
    "change_bg = alter_bg()\n",
    "\n",
    "# DeepLabv3+ model is used for image segmentation.\n",
    "# For using this you have to download DeepLabv3+ pascalvoc model for using it\n",
    "# Here we will load deeplabv3+ pascalvoc model\n",
    "\n",
    "change_bg.load_pascalvoc_model(\"deeplabv3_xception_tf_dim_ordering_tf_kernels.h5\")\n",
    "\n",
    "# The function color_bg takes the parameter colors then we have to provide the RGB value of the color we want to use.\n",
    "# We want the image to have a white background and the color’s RGB value is set to white which is (255, 255, 255).\n",
    "\n",
    "change_bg.color_bg(\"bgr.jpg\", colors = (255,255,255), output_image_name=\"bg_removed.jpg\")\n",
    "\n",
    "# Here the input image is bgr.jpg and the output image will be in the bg_removed.jpg"
   ]
  },
  {
   "cell_type": "code",
   "execution_count": null,
   "id": "7106467b",
   "metadata": {},
   "outputs": [],
   "source": []
  }
 ],
 "metadata": {
  "kernelspec": {
   "display_name": "Python 3",
   "language": "python",
   "name": "python3"
  },
  "language_info": {
   "codemirror_mode": {
    "name": "ipython",
    "version": 3
   },
   "file_extension": ".py",
   "mimetype": "text/x-python",
   "name": "python",
   "nbconvert_exporter": "python",
   "pygments_lexer": "ipython3",
   "version": "3.8.8"
  }
 },
 "nbformat": 4,
 "nbformat_minor": 5
}
